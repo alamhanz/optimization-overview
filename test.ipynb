{
 "cells": [
  {
   "cell_type": "code",
   "execution_count": 1,
   "metadata": {},
   "outputs": [
    {
     "name": "stdout",
     "output_type": "stream",
     "text": [
      "202.6068864788514\n",
      "0.023457940909055792\n",
      "0.012460891225747416\n",
      "119.5123637822951\n",
      "0.005655120498188133\n",
      "181.3345614495021\n",
      "0.04215892691509273\n",
      "195.49777994162235\n",
      "194.797414893486\n",
      "4.365108138710685\n"
     ]
    }
   ],
   "source": [
    "from niapy.algorithms.basic import ParticleSwarmAlgorithm\n",
    "from niapy.task import Task\n",
    "\n",
    "# we will run 10 repetitions of Weighted, velocity clamped PSO on the Pinter problem\n",
    "for i in range(10):\n",
    "    task = Task(problem=\"pinter\", dimension=10, max_evals=10000)\n",
    "    algorithm = ParticleSwarmAlgorithm(\n",
    "        population_size=100, w=0.9, c1=0.5, c2=0.3, min_velocity=-1, max_velocity=1\n",
    "    )\n",
    "    best_x, best_fit = algorithm.run(task)\n",
    "    print(best_fit)"
   ]
  },
  {
   "cell_type": "code",
   "execution_count": 47,
   "metadata": {},
   "outputs": [],
   "source": [
    "import numpy as np\n",
    "from niapy.task import Task\n",
    "from niapy.problems import Problem\n",
    "from niapy.algorithms.basic import ParticleSwarmAlgorithm, GreyWolfOptimizer\n",
    "\n",
    "\n",
    "# our custom problem class\n",
    "class MyProblem(Problem):\n",
    "    def __init__(self, dimension, lower=2, upper=10, base=100, *args, **kwargs):\n",
    "        super().__init__(dimension, lower, upper, *args, **kwargs)\n",
    "        self.base = base\n",
    "\n",
    "    def _evaluate(self, x):\n",
    "        err = abs(np.product(x) - self.base)\n",
    "        # if err <= 0.0001:\n",
    "        return np.sum([i for i in x]) + (self.base * err)\n",
    "        # return 10000000 * err"
   ]
  },
  {
   "cell_type": "code",
   "execution_count": 48,
   "metadata": {},
   "outputs": [
    {
     "name": "stdout",
     "output_type": "stream",
     "text": [
      "14.529272753615643 [6.25481847 5.18242289 3.08497845]\n",
      "15.050036807816099 [5.01179676 2.92906202 6.81225468]\n",
      "14.28707384507814 [5.18582868 5.60695548 3.43919752]\n",
      "14.325143725809545 [5.80919702 4.91348462 3.50347153]\n",
      "14.06373031783038 [5.03573333 4.66830417 4.25385544]\n",
      "14.761496397255364 [3.41903157 4.50382591 6.49382108]\n",
      "14.919819089196533 [2.95403104 5.83475167 5.80160641]\n",
      "14.582680303439693 [4.34008965 5.09113038 4.5259968 ]\n",
      "14.947970070368182 [3.06439324 5.56334368 5.86596332]\n",
      "14.715734102430151 [6.82228213 3.27378601 4.47727586]\n"
     ]
    }
   ],
   "source": [
    "my_problem = MyProblem(dimension=3, base=100)\n",
    "for i in range(10):\n",
    "    task = Task(problem=my_problem, max_iters=100)\n",
    "    # algo = ParticleSwarmAlgorithm(\n",
    "    #     population_size=100, w=0.9, c1=0.5, c2=0.3, min_velocity=-1, max_velocity=1\n",
    "    # )\n",
    "    algo = GreyWolfOptimizer(population_size=1000)\n",
    "\n",
    "    # running algorithm returns best found minimum\n",
    "    best_x, best_fit = algo.run(task)\n",
    "    # printing best minimum\n",
    "    print(best_fit, best_x)"
   ]
  },
  {
   "cell_type": "code",
   "execution_count": 49,
   "metadata": {},
   "outputs": [
    {
     "data": {
      "text/plain": [
       "13.930151891901875"
      ]
     },
     "execution_count": 49,
     "metadata": {},
     "output_type": "execute_result"
    }
   ],
   "source": [
    "my_problem.evaluate(np.array([4.641588, 4.641588, 4.641588]))"
   ]
  },
  {
   "cell_type": "code",
   "execution_count": null,
   "metadata": {},
   "outputs": [],
   "source": []
  },
  {
   "cell_type": "code",
   "execution_count": null,
   "metadata": {},
   "outputs": [],
   "source": []
  }
 ],
 "metadata": {
  "kernelspec": {
   "display_name": "epil",
   "language": "python",
   "name": "python3"
  },
  "language_info": {
   "codemirror_mode": {
    "name": "ipython",
    "version": 3
   },
   "file_extension": ".py",
   "mimetype": "text/x-python",
   "name": "python",
   "nbconvert_exporter": "python",
   "pygments_lexer": "ipython3",
   "version": "3.10.14"
  }
 },
 "nbformat": 4,
 "nbformat_minor": 2
}
